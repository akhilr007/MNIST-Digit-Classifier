{
 "cells": [
  {
   "cell_type": "code",
   "execution_count": 1,
   "metadata": {},
   "outputs": [
    {
     "name": "stderr",
     "output_type": "stream",
     "text": [
      "Using TensorFlow backend.\n"
     ]
    }
   ],
   "source": [
    "import numpy as np\n",
    "import pandas as pd\n",
    "from keras.models import Sequential\n",
    "from keras.layers import Dense, Dropout, Convolution2D, MaxPooling2D, Flatten\n",
    "from keras.utils.np_utils import to_categorical\n",
    "from keras import backend as K\n",
    "from keras.datasets import mnist"
   ]
  },
  {
   "cell_type": "code",
   "execution_count": 2,
   "metadata": {},
   "outputs": [],
   "source": [
    "# Loading our datasets -- containing images of handwritten digits 0f 0 - 9\n",
    "(x_train, y_train), (x_test, y_test) = mnist.load_data()"
   ]
  },
  {
   "cell_type": "code",
   "execution_count": 3,
   "metadata": {},
   "outputs": [],
   "source": [
    "# Input image dimensions\n",
    "img_width, img_height = 28, 28"
   ]
  },
  {
   "cell_type": "code",
   "execution_count": 4,
   "metadata": {},
   "outputs": [],
   "source": [
    "if K.image_data_format() == 'channels_first':\n",
    "    x_train = x_train.reshape(x_train.shape[0], 1, img_width, img_height)\n",
    "    x_test = x_test.reshape(x_test.shape[0], 1, img_width, img_height)\n",
    "    input_shape = (1, img_width, img_height)\n",
    "else:\n",
    "    x_train = x_train.reshape(x_train.shape[0], img_width, img_height, 1)\n",
    "    x_test = x_test.reshape(x_test.shape[0], img_width, img_height, 1)\n",
    "    input_shape = (img_width, img_height, 1)"
   ]
  },
  {
   "cell_type": "code",
   "execution_count": 5,
   "metadata": {},
   "outputs": [],
   "source": [
    "x_train = x_train.astype('float32')\n",
    "x_test = x_test.astype('float32')"
   ]
  },
  {
   "cell_type": "code",
   "execution_count": 6,
   "metadata": {},
   "outputs": [
    {
     "name": "stdout",
     "output_type": "stream",
     "text": [
      "x_train shape is:  (60000, 28, 28, 1)\n",
      "x_test shape is:  (10000, 28, 28, 1)\n",
      "train_y shape is:  (60000, 10)\n",
      "test_y shape is:  (10000, 10)\n"
     ]
    }
   ],
   "source": [
    "# Normalizing our dataets\n",
    "x_train = x_train / 255\n",
    "x_test = x_test / 255\n",
    "\n",
    "train_y = to_categorical(y_train)\n",
    "test_y = to_categorical(y_test)\n",
    "\n",
    "print(\"x_train shape is: \", x_train.shape)\n",
    "print(\"x_test shape is: \", x_test.shape)\n",
    "print(\"train_y shape is: \", train_y.shape)\n",
    "print(\"test_y shape is: \", test_y.shape)"
   ]
  },
  {
   "cell_type": "code",
   "execution_count": 7,
   "metadata": {},
   "outputs": [
    {
     "name": "stdout",
     "output_type": "stream",
     "text": [
      "WARNING:tensorflow:From C:\\Users\\DELL\\Anaconda3\\lib\\site-packages\\tensorflow\\python\\framework\\op_def_library.py:263: colocate_with (from tensorflow.python.framework.ops) is deprecated and will be removed in a future version.\n",
      "Instructions for updating:\n",
      "Colocations handled automatically by placer.\n",
      "WARNING:tensorflow:From C:\\Users\\DELL\\Anaconda3\\lib\\site-packages\\keras\\backend\\tensorflow_backend.py:3445: calling dropout (from tensorflow.python.ops.nn_ops) with keep_prob is deprecated and will be removed in a future version.\n",
      "Instructions for updating:\n",
      "Please use `rate` instead of `keep_prob`. Rate should be set to `rate = 1 - keep_prob`.\n"
     ]
    }
   ],
   "source": [
    "# Building our model\n",
    "model = Sequential()\n",
    "model.add(Convolution2D(filters = 32, kernel_size = (5, 5), input_shape = input_shape, activation = \"relu\"))\n",
    "model.add(MaxPooling2D(pool_size = (2, 2)))\n",
    "model.add(Convolution2D(filters = 64, kernel_size = (5, 5), input_shape = input_shape, activation = \"relu\"))\n",
    "model.add(MaxPooling2D(pool_size = (3, 3)))\n",
    "model.add(Flatten()) # reducing the dimension into 1D \n",
    "model.add(Dense(128, activation = \"relu\"))\n",
    "model.add(Dropout(0.2))\n",
    "model.add(Dense(10, activation = \"softmax\"))  # 10---> num of clases,i.e, 0-9"
   ]
  },
  {
   "cell_type": "code",
   "execution_count": 8,
   "metadata": {},
   "outputs": [
    {
     "name": "stdout",
     "output_type": "stream",
     "text": [
      "_________________________________________________________________\n",
      "Layer (type)                 Output Shape              Param #   \n",
      "=================================================================\n",
      "conv2d_1 (Conv2D)            (None, 24, 24, 32)        832       \n",
      "_________________________________________________________________\n",
      "max_pooling2d_1 (MaxPooling2 (None, 12, 12, 32)        0         \n",
      "_________________________________________________________________\n",
      "conv2d_2 (Conv2D)            (None, 8, 8, 64)          51264     \n",
      "_________________________________________________________________\n",
      "max_pooling2d_2 (MaxPooling2 (None, 2, 2, 64)          0         \n",
      "_________________________________________________________________\n",
      "flatten_1 (Flatten)          (None, 256)               0         \n",
      "_________________________________________________________________\n",
      "dense_1 (Dense)              (None, 128)               32896     \n",
      "_________________________________________________________________\n",
      "dropout_1 (Dropout)          (None, 128)               0         \n",
      "_________________________________________________________________\n",
      "dense_2 (Dense)              (None, 10)                1290      \n",
      "=================================================================\n",
      "Total params: 86,282\n",
      "Trainable params: 86,282\n",
      "Non-trainable params: 0\n",
      "_________________________________________________________________\n"
     ]
    }
   ],
   "source": [
    "model.summary()"
   ]
  },
  {
   "cell_type": "code",
   "execution_count": 9,
   "metadata": {},
   "outputs": [],
   "source": [
    "# Compiling our model\n",
    "model.compile(loss = \"categorical_crossentropy\", optimizer = \"adam\", metrics = [\"accuracy\"])"
   ]
  },
  {
   "cell_type": "code",
   "execution_count": 11,
   "metadata": {},
   "outputs": [
    {
     "name": "stdout",
     "output_type": "stream",
     "text": [
      "Train on 60000 samples, validate on 10000 samples\n",
      "Epoch 1/12\n",
      "60000/60000 [==============================] - 101s 2ms/step - loss: 0.0113 - acc: 0.9960 - val_loss: 0.0471 - val_acc: 0.9876\n",
      "Epoch 2/12\n",
      "60000/60000 [==============================] - 98s 2ms/step - loss: 0.0106 - acc: 0.9963 - val_loss: 0.0364 - val_acc: 0.9918\n",
      "Epoch 3/12\n",
      "60000/60000 [==============================] - 96s 2ms/step - loss: 0.0078 - acc: 0.9971 - val_loss: 0.0365 - val_acc: 0.9920\n",
      "Epoch 4/12\n",
      "60000/60000 [==============================] - 98s 2ms/step - loss: 0.0093 - acc: 0.9970 - val_loss: 0.0364 - val_acc: 0.9923\n",
      "Epoch 5/12\n",
      "60000/60000 [==============================] - 96s 2ms/step - loss: 0.0103 - acc: 0.9967 - val_loss: 0.0413 - val_acc: 0.9908\n",
      "Epoch 6/12\n",
      "60000/60000 [==============================] - 93s 2ms/step - loss: 0.0075 - acc: 0.9976 - val_loss: 0.0371 - val_acc: 0.9919\n",
      "Epoch 7/12\n",
      "60000/60000 [==============================] - 92s 2ms/step - loss: 0.0062 - acc: 0.9979 - val_loss: 0.0455 - val_acc: 0.9898\n",
      "Epoch 8/12\n",
      "60000/60000 [==============================] - 92s 2ms/step - loss: 0.0083 - acc: 0.9975 - val_loss: 0.0431 - val_acc: 0.9922\n",
      "Epoch 9/12\n",
      "60000/60000 [==============================] - 95s 2ms/step - loss: 0.0066 - acc: 0.9978 - val_loss: 0.0439 - val_acc: 0.9916\n",
      "Epoch 10/12\n",
      "60000/60000 [==============================] - 97s 2ms/step - loss: 0.0064 - acc: 0.9980 - val_loss: 0.0478 - val_acc: 0.9910\n",
      "Epoch 11/12\n",
      "60000/60000 [==============================] - 90s 1ms/step - loss: 0.0061 - acc: 0.9981 - val_loss: 0.0491 - val_acc: 0.9914\n",
      "Epoch 12/12\n",
      "60000/60000 [==============================] - 89s 1ms/step - loss: 0.0070 - acc: 0.9978 - val_loss: 0.0429 - val_acc: 0.9916\n",
      "10000/10000 [==============================] - 3s 319us/step\n",
      "CNN Error : 0.84%\n"
     ]
    }
   ],
   "source": [
    "model.fit(x_train, train_y, validation_data = (x_test, test_y), epochs = 12, batch_size = 64)\n",
    "scores = model.evaluate(x_test, test_y)\n",
    "print(\"CNN Error : %.2f%%\" % (100- scores[1] * 100))\n",
    "model.save(\"digit_classifier.mnist\")"
   ]
  },
  {
   "cell_type": "code",
   "execution_count": null,
   "metadata": {},
   "outputs": [],
   "source": []
  }
 ],
 "metadata": {
  "kernelspec": {
   "display_name": "Python 3",
   "language": "python",
   "name": "python3"
  },
  "language_info": {
   "codemirror_mode": {
    "name": "ipython",
    "version": 3
   },
   "file_extension": ".py",
   "mimetype": "text/x-python",
   "name": "python",
   "nbconvert_exporter": "python",
   "pygments_lexer": "ipython3",
   "version": "3.7.1"
  }
 },
 "nbformat": 4,
 "nbformat_minor": 2
}
